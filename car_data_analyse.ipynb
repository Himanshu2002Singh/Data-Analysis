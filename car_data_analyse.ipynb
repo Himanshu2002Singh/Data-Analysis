{
 "cells": [
  {
   "cell_type": "markdown",
   "metadata": {},
   "source": [
    "Importing the Dependencies"
   ]
  },
  {
   "cell_type": "code",
   "execution_count": null,
   "metadata": {},
   "outputs": [],
   "source": [
    "import pandas as pd\n",
    "import numpy as np\n",
    "import pickle\n",
    "\n",
    "# for visualization thr datasheet \n",
    "import matplotlib.pyplot as plt\n",
    "import seaborn as sns\n",
    "\n",
    "# for predection linear regression\n",
    "from sklearn.model_selection import train_test_split\n",
    "from sklearn.linear_model import LinearRegression\n",
    "from sklearn.linear_model import Lasso\n",
    "from sklearn import metrics\n",
    "import plotly\n",
    "import plotly.express as px"
   ]
  },
  {
   "cell_type": "markdown",
   "metadata": {},
   "source": [
    "Collection, Processing  And red the concerned datasheet\n",
    "Car datasheet(Ex-showroomPrice to all Features),Selling Car DAtasheet(state_wise & Company wise)"
   ]
  },
  {
   "cell_type": "code",
   "execution_count": null,
   "metadata": {},
   "outputs": [],
   "source": [
    "# Load and read the Data fron csv file to Pandas Dataframe\n",
    "df=pd.read_csv('datafile\\cars_ds_final.csv',encoding='latin-1')\n",
    "pf=pd.read_csv('datafile\\sales-companywise.csv',encoding='latin-1')\n",
    "cf=pd.read_csv('datafile\\sale-Statewise.csv',encoding='latin-1')\n",
    "\n"
   ]
  },
  {
   "cell_type": "markdown",
   "metadata": {},
   "source": [
    "Visualizing and analyisng the Models and Companies"
   ]
  },
  {
   "cell_type": "code",
   "execution_count": null,
   "metadata": {},
   "outputs": [],
   "source": [
    "# Bar_Chart of most cars companies\n",
    "df['Make'].value_counts()[0:15]\n",
    "plt.figure(figsize=(8,5))\n",
    "plt.bar(list(df['Make'].value_counts()[0:5].keys()),list(df['Make'].value_counts()[0:5]),color=\"y\")\n",
    "plt.show()"
   ]
  },
  {
   "cell_type": "code",
   "execution_count": null,
   "metadata": {},
   "outputs": [],
   "source": [
    "# Bar_chart of Top models cars of Companies\n",
    "df['Model'].value_counts()[0:10]\n",
    "plt.figure(figsize=(8,5))\n",
    "plt.bar(list(df['Model'].value_counts()[0:5].keys()),list(df['Model'].value_counts()[0:5]))\n",
    "plt.show()"
   ]
  },
  {
   "cell_type": "markdown",
   "metadata": {},
   "source": [
    "Analysis And Visualization of Fuel_types"
   ]
  },
  {
   "cell_type": "code",
   "execution_count": null,
   "metadata": {},
   "outputs": [],
   "source": [
    "# Bar Chart of Mostely used fuel types\n",
    "df['Fuel_Type'].value_counts()[0:10]\n",
    "plt.figure(figsize=(8,5))\n",
    "plt.bar(list(df['Fuel_Type'].value_counts()[0:5].keys()),list(df['Fuel_Type'].value_counts()[0:5]),color=\"r\")\n",
    "plt.show()\n"
   ]
  },
  {
   "cell_type": "markdown",
   "metadata": {},
   "source": [
    "Analysis and Print Top Car Model & compamies "
   ]
  },
  {
   "cell_type": "code",
   "execution_count": null,
   "metadata": {},
   "outputs": [],
   "source": [
    "# print list of top 5 car Compamies\n",
    "list(df['Make'].value_counts()[0:5].keys())\n"
   ]
  },
  {
   "cell_type": "code",
   "execution_count": null,
   "metadata": {},
   "outputs": [],
   "source": [
    "# Bar Chart of Top 5 Cars Companies\n",
    "plt.figure(figsize=(8,5))\n",
    "plt.bar(list(df['Make'].value_counts()[0:5].keys()),list(df['Make'].value_counts()[0:5]))\n",
    "plt.show()"
   ]
  },
  {
   "cell_type": "markdown",
   "metadata": {},
   "source": [
    "Data Handeling And cleaning the dataSheet of Car_sheet"
   ]
  },
  {
   "cell_type": "code",
   "execution_count": null,
   "metadata": {},
   "outputs": [],
   "source": [
    "# replace all null value and empty string\n",
    "df=df.fillna('')\n",
    "df=df.replace(' ', '')\n",
    "\n",
    "#spiliting the colunm\n",
    "df['Displacement']=df['Displacement'].str.split(' ').str.get(0)\n",
    "df['Fuel_Tank_Capacity']=df['Fuel_Tank_Capacity'].str.split(' ').str.get(0)\n",
    "df['Height']=df['Height'].str.split(' ').str.get(0)\n",
    "df['Length']=df['Length'].str.split(' ').str.get(0)\n",
    "\n",
    "# repalcing Unsed Data of colunm\n",
    "\n",
    "df['Ex-Showroom_Price']=df['Ex-Showroom_Price'].str.replace('Rs. ','')\n",
    "df['Ex-Showroom_Price']=df['Ex-Showroom_Price'].str.replace(',','')\n",
    "\n",
    "df['Width']=df['Width'].str.split(' ').str.get(0)\n",
    "df['Fuel_Tank_Capacity']=df['Fuel_Tank_Capacity'].str.split(' ').str.get(0)\n",
    "df['Boot_Space']=df['Boot_Space'].str.split(' ').str.get(0)\n",
    "df['City_Mileage']=df['City_Mileage'].str.split(' ').str.get(0)\n",
    "df['City_Mileage']=df['City_Mileage'].str.split(' ').str.get(0).str.replace(',','')\n",
    "\n",
    "# handling Mistake in Dtaa Entry\n",
    "\n",
    "df=df[df['Gears']!='7 Dual Clutch']\n",
    "df=df[df['Gears']!='Single Speed Reduction Gear']\n",
    "\n",
    "# replacing unsed data\n",
    "df['Ex-Showroom_Price']=df['Ex-Showroom_Price'].str.replace(',','')\n",
    "df['Ex-Showroom_Price']=df['Ex-Showroom_Price'].str.replace('Rs.','')\n",
    "df['Displacement']=df['Displacement'].str.replace('cc','')\n",
    "\n",
    "# Data type correction / convertion\n",
    "df[['Cylinders', 'Valves_Per_Cylinder', 'Doors', 'Seating_Capacity', 'Number_of_Airbags', 'Ex-Showroom_Price', 'Displacement']] = df[['Cylinders', 'Valves_Per_Cylinder', 'Doors', 'Seating_Capacity', 'Number_of_Airbags', 'Ex-Showroom_Price', 'Displacement']].apply(pd.to_numeric)\n",
    "\n",
    "\n",
    "\n",
    "df['Basic_Warranty']=df['Basic_Warranty'].str.split(' ').str.get(0).str.replace('3rd','3')\n",
    "\n",
    "# checked the Data Are cleared Are Not\n",
    "print(df['Ex-Showroom_Price'])\n",
    "print(df['City_Mileage'])"
   ]
  },
  {
   "cell_type": "markdown",
   "metadata": {},
   "source": [
    "Data Understanding"
   ]
  },
  {
   "cell_type": "code",
   "execution_count": null,
   "metadata": {},
   "outputs": [],
   "source": [
    "# pritnt top max priceable Car\n",
    "df['Ex-Showroom_Price'].max()\n",
    "df.head()"
   ]
  },
  {
   "cell_type": "markdown",
   "metadata": {},
   "source": [
    "Replace String to int and Make a new Column for Visualization data"
   ]
  },
  {
   "cell_type": "code",
   "execution_count": null,
   "metadata": {},
   "outputs": [],
   "source": [
    "# Add three Column Petrol,Diesel ,Cng,and Electric \n",
    "df['Diesel']=df['Fuel_Type'].apply(lambda x: 1 if 'Diesel' in x else 0)\n",
    "df['CNG']=df['Fuel_Type'].apply(lambda x: 1 if 'CNG' in x else 0)\n",
    "df['Petrol']=df['Fuel_Type'].apply(lambda x: 1 if 'Petrol' in x else 0)\n",
    "df['Electric']=df['Fuel_Type'].apply(lambda x: 1 if 'Electric' in x else 0)\n"
   ]
  },
  {
   "cell_type": "markdown",
   "metadata": {},
   "source": [
    "DAat Visualisation"
   ]
  },
  {
   "cell_type": "code",
   "execution_count": null,
   "metadata": {},
   "outputs": [],
   "source": [
    "# visualization Relation between fuel type and Showrrom price by Bar_Chart\n",
    "df['Fuel_Type'].value_counts()\n",
    "plt.figure(figsize=(8,5))\n",
    "plt.bar(list(df['Fuel_Type'].value_counts()[0:5].keys()),list(df['Ex-Showroom_Price'].value_counts()[0:5]))\n",
    "plt.show()"
   ]
  },
  {
   "cell_type": "code",
   "execution_count": null,
   "metadata": {},
   "outputs": [],
   "source": [
    "# visualization all data \n",
    "f,ax = plt.subplots(figsize=(14,10))\n",
    "sns.heatmap(df.corr(), annot=True, fmt=\".2f\", ax=ax)\n",
    "plt.show()"
   ]
  },
  {
   "cell_type": "markdown",
   "metadata": {},
   "source": [
    "Pie Chart of Car MAking Company"
   ]
  },
  {
   "cell_type": "code",
   "execution_count": null,
   "metadata": {},
   "outputs": [],
   "source": [
    "# barplot of Showroom price and company and Analysis \n",
    "sns.distplot(df['Ex-Showroom_Price'])\n",
    "sns.barplot(x=df['Make'],y=df['Ex-Showroom_Price'])\n",
    "plt.xticks(rotation='vertical')\n",
    "plt.show()"
   ]
  },
  {
   "cell_type": "code",
   "execution_count": null,
   "metadata": {},
   "outputs": [],
   "source": [
    "# pie chart top making Companies of India\n",
    "fig = plt.figure(figsize = (10,10))\n",
    "ax = fig.subplots()\n",
    "df.Make.value_counts().plot(ax=ax, kind='pie')\n",
    "ax.set_ylabel(\"\")\n",
    "ax.set_title(\"Top Car Making Companies in India\")\n",
    "plt.show()"
   ]
  },
  {
   "cell_type": "markdown",
   "metadata": {},
   "source": [
    "Data Correction and Cleaning of Sale_datasheet(company & Sate wise)"
   ]
  },
  {
   "cell_type": "code",
   "execution_count": null,
   "metadata": {},
   "outputs": [],
   "source": [
    "#### cleaning dataSheet of sale company wise\n",
    "\n",
    "# replace all null value and empty string\n",
    "pf=pf.fillna('')\n",
    "pf=pf.replace(' ', '')\n",
    "\n",
    "# replace the non used data\n",
    "pf['ap22']=pf['ap22'].str.replace(',','')\n",
    "pf['ap21']=pf['ap21'].str.replace(',','')\n",
    "\n",
    "# Data converstion\n",
    "pf['ap22']=pf['ap22'].astype(int)\n",
    "pf.info()\n"
   ]
  },
  {
   "cell_type": "code",
   "execution_count": null,
   "metadata": {},
   "outputs": [],
   "source": [
    "#### cleaning dataSheet of sale state wise\n",
    "\n",
    "\n",
    "# replace all null value and empty string\n",
    "cf=cf.fillna('')\n",
    "cf=cf.replace(' ', '')\n",
    "\n",
    "# replace the non used data\n",
    "cf['sale_car']=cf['sale_car'].str.replace(',','')\n",
    "cf['sale_percentace']=cf['sale_percentace'].str.replace('%','')\n",
    "\n",
    "# Data converstion\n",
    "cf['sale_percentace']=cf['sale_percentace'].astype(float)\n",
    "cf['sale_car']=cf['sale_car'].astype(float)\n",
    "cf.info()\n"
   ]
  },
  {
   "cell_type": "markdown",
   "metadata": {},
   "source": [
    "Visualisation of Most saling car companies and state wise"
   ]
  },
  {
   "cell_type": "code",
   "execution_count": null,
   "metadata": {},
   "outputs": [],
   "source": [
    "# bar Char of most salling compaines\n",
    "plt.figure(figsize=(20,10))\n",
    "sns.barplot(x=pf['OEM'],y=pf['ap22'])\n",
    "plt.xticks(rotation='horizontal')\n",
    "plt.xticks(fontsize=10)\n",
    "plt.show()"
   ]
  },
  {
   "cell_type": "code",
   "execution_count": null,
   "metadata": {},
   "outputs": [],
   "source": [
    "# bar Char of most salling car state wise\n",
    "plt.figure(figsize=(20,10))\n",
    "sns.barplot(x=cf['state'],y=cf['sale_car'])\n",
    "plt.xticks(rotation='horizontal')\n",
    "plt.xticks(fontsize=10)\n",
    "plt.show()"
   ]
  },
  {
   "cell_type": "markdown",
   "metadata": {},
   "source": [
    "Visualization and Analysis of Salling"
   ]
  },
  {
   "cell_type": "code",
   "execution_count": null,
   "metadata": {},
   "outputs": [],
   "source": [
    "# analysis & visualizing the most selling car model of car campanies by plot Chart \n",
    "plt.figure(figsize=(20,10))\n",
    "sns.barplot(x=cf['state'],y=cf['sale_percentace'])\n",
    "plt.xticks(rotation='horizontal')\n",
    "plt.xticks(fontsize=10)\n",
    "plt.show()"
   ]
  },
  {
   "cell_type": "code",
   "execution_count": null,
   "metadata": {},
   "outputs": [],
   "source": [
    "# analysis & visualizing the most selling car model of car campanies by plot Chart \n",
    "plt.figure(figsize=(16,7))\n",
    "sns.countplot(data=df, y='Body_Type',alpha=.6,color='blue')\n",
    "plt.title('Cars by car body type',fontsize=20)\n",
    "plt.xticks(fontsize=14)\n",
    "plt.yticks(fontsize=14)\n",
    "plt.xlabel('')\n",
    "plt.ylabel('')"
   ]
  },
  {
   "cell_type": "code",
   "execution_count": null,
   "metadata": {},
   "outputs": [],
   "source": [
    "# plot the pie Chart Most saling fuel type of Engine\n",
    "fig = plt.figure(figsize = (10,10))\n",
    "ax = fig.subplots()\n",
    "df.Fuel_Type.value_counts().plot(ax=ax, kind='pie')\n",
    "ax.set_ylabel(\"\")\n",
    "ax.set_title(\"Cars Count by Engine Fuel Type\")\n",
    "plt.show()"
   ]
  },
  {
   "cell_type": "code",
   "execution_count": null,
   "metadata": {},
   "outputs": [],
   "source": [
    "# visualising realtion between show room price body type varient\n",
    "plt.figure(figsize=(10,8))\n",
    "sns.scatterplot(data=df, x='Displacement', y='Ex-Showroom_Price',hue='Body_Type',palette='viridis',alpha=.89, s=120 );\n",
    "plt.xticks(fontsize=13)\n",
    "plt.yticks(fontsize=13)\n",
    "plt.xlabel('power',fontsize=14)\n",
    "plt.ylabel('price',fontsize=14)\n",
    "plt.title('Relation between Displacement and price',fontsize=20);\n"
   ]
  },
  {
   "cell_type": "code",
   "execution_count": null,
   "metadata": {},
   "outputs": [],
   "source": [
    "# visualiztion price effect of diaplacement fuel type \n",
    "sns.pairplot(df,vars=[ 'Displacement', 'Ex-Showroom_Price'], hue= 'Fuel_Type', palette=sns.color_palette('magma'),diag_kind='kde',height=2, aspect=1.8);\n"
   ]
  },
  {
   "cell_type": "markdown",
   "metadata": {},
   "source": [
    "3D Graph Visualization"
   ]
  },
  {
   "cell_type": "code",
   "execution_count": null,
   "metadata": {},
   "outputs": [],
   "source": [
    "#3D Graph Visualization\n",
    "fig = px.scatter_3d(df, x='Displacement', z='Ex-Showroom_Price', y='Fuel_Type',color='Make',width=800,height=750)\n",
    "fig.update_layout(showlegend=True)\n",
    "fig.show()"
   ]
  }
 ],
 "metadata": {
  "interpreter": {
   "hash": "bf4fbbcfb44b62809ee9ef976aff62d8f85ac4ea82e40788fda9594addf376e6"
  },
  "kernelspec": {
   "display_name": "Python 3.9.6 64-bit",
   "language": "python",
   "name": "python3"
  },
  "language_info": {
   "codemirror_mode": {
    "name": "ipython",
    "version": 3
   },
   "file_extension": ".py",
   "mimetype": "text/x-python",
   "name": "python",
   "nbconvert_exporter": "python",
   "pygments_lexer": "ipython3",
   "version": "3.9.6"
  },
  "orig_nbformat": 4
 },
 "nbformat": 4,
 "nbformat_minor": 2
}
